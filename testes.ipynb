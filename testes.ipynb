{
 "cells": [
  {
   "cell_type": "code",
   "execution_count": 3,
   "metadata": {},
   "outputs": [],
   "source": [
    "import requests\n",
    "\n",
    "endpoint = \"https://api.lyrics.ovh/v1/nirvana/downer\"\n",
    "\n",
    "\n",
    "response = requests.get(endpoint)"
   ]
  },
  {
   "cell_type": "code",
   "execution_count": 7,
   "metadata": {},
   "outputs": [
    {
     "name": "stdout",
     "output_type": "stream",
     "text": [
      "Portray sincerity\n",
      "Act out of loyalty\n",
      "Defending your true country\n",
      "Wish away the pain\n",
      "Hand out lobotomies\n",
      "To save little families\n",
      "\n",
      "Surrealistic fantasy\n",
      "\n",
      "Bad boy, Fight!\n",
      "\n",
      "\n",
      "\n",
      "Hold me down in restitution\n",
      "\n",
      "Living out your date with fusion\n",
      "\n",
      "Is the whole fleece shun in master?\n",
      "\n",
      "Don't feel guilty, master writing\n",
      "\n",
      "\n",
      "\n",
      "Somebody said that they're not much like I am, I know I can\n",
      "\n",
      "Make enough of the words for you to go along and sing your song\n",
      "\n",
      "\n",
      "\n",
      "Slippery pessimist hypocrite master\n",
      "\n",
      "Conservative communist apocalyptic bastard\n",
      "\n",
      "Thank you dear God for putting me on this Earth\n",
      "\n",
      "I feel very privileged in debt for my thirst!\n",
      "\n",
      "\n",
      "\n",
      "Hold me down in restitution\n",
      "\n",
      "Living out your date with fusion\n",
      "\n",
      "Is the whole fleece shun in master?\n",
      "\n",
      "Don't feel guilty, master writing\n",
      "\n",
      "\n",
      "\n",
      "Somebody said that they're not much like I am, I know I can\n",
      "\n",
      "Make enough of the words for you to go along and sing your song\n"
     ]
    }
   ],
   "source": [
    "print(response.json()['lyrics'])"
   ]
  }
 ],
 "metadata": {
  "kernelspec": {
   "display_name": "Python 3",
   "language": "python",
   "name": "python3"
  },
  "language_info": {
   "codemirror_mode": {
    "name": "ipython",
    "version": 3
   },
   "file_extension": ".py",
   "mimetype": "text/x-python",
   "name": "python",
   "nbconvert_exporter": "python",
   "pygments_lexer": "ipython3",
   "version": "3.13.0"
  }
 },
 "nbformat": 4,
 "nbformat_minor": 2
}
